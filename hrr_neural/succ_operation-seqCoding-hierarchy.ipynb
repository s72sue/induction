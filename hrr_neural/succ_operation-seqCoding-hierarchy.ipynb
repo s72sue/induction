{
 "cells": [
  {
   "cell_type": "markdown",
   "metadata": {},
   "source": [
    "# Taxonomy encoding"
   ]
  },
  {
   "cell_type": "code",
   "execution_count": 1,
   "metadata": {},
   "outputs": [],
   "source": [
    "import nengo\n",
    "import nengo.spa as spa\n",
    "from nengo.spa import Vocabulary\n",
    "import numpy as np"
   ]
  },
  {
   "cell_type": "code",
   "execution_count": 2,
   "metadata": {},
   "outputs": [
    {
     "name": "stderr",
     "output_type": "stream",
     "text": [
      "/Users/sugandha/nengo/nengo/spa/vocab.py:114: UserWarning: Could not create a semantic pointer with max_similarity=0.02 (D=128, M=10)\n",
      "  len(self.pointers)))\n",
      "/Users/sugandha/nengo/nengo/spa/vocab.py:114: UserWarning: Could not create a semantic pointer with max_similarity=0.02 (D=128, M=14)\n",
      "  len(self.pointers)))\n",
      "/Users/sugandha/nengo/nengo/spa/vocab.py:114: UserWarning: Could not create a semantic pointer with max_similarity=0.02 (D=128, M=16)\n",
      "  len(self.pointers)))\n",
      "/Users/sugandha/nengo/nengo/spa/vocab.py:114: UserWarning: Could not create a semantic pointer with max_similarity=0.02 (D=128, M=18)\n",
      "  len(self.pointers)))\n"
     ]
    }
   ],
   "source": [
    "rng = np.random.RandomState(12)\n",
    "dim = 64*2\n",
    "\n",
    "vocab = Vocabulary(dimensions=dim, rng=rng, max_similarity=0.02, unitary=True)\n",
    "\n",
    "incr = vocab.parse(\"INCREMENT\")\n",
    "zero = vocab.parse(\"ZERO\")\n",
    "vocab.add(\"ONE\", vocab.parse(\"ZERO*INCREMENT+B\"))\n",
    "vocab.add(\"TWO\", vocab.parse(\"ONE*INCREMENT+C\"))\n",
    "vocab.add(\"THREE\", vocab.parse(\"TWO*INCREMENT+D\"))\n",
    "vocab.add(\"FOUR\", vocab.parse(\"THREE*INCREMENT+E\"))\n",
    "vocab.add(\"FIVE\", vocab.parse(\"FOUR*INCREMENT+F\"))\n",
    "\n",
    "vocab.add(\"SIX\", vocab.parse(\"ZERO*INCREMENT+G\"))\n",
    "vocab.add(\"SEVEN\", vocab.parse(\"ONE*INCREMENT+H\"))\n",
    "\n",
    "vocab.add(\"EIGHT\", vocab.parse(\"SEVEN*INCREMENT+I\"))\n",
    "vocab.add(\"NINE\", vocab.parse(\"SEVEN*INCREMENT+J\"))\n",
    "\n",
    "\n",
    "one = vocab.parse(\"ONE\")\n",
    "two = vocab.parse(\"TWO\")\n",
    "three = vocab.parse(\"THREE\")\n",
    "four = vocab.parse(\"FOUR\")\n",
    "five = vocab.parse(\"FIVE\")\n",
    "six = vocab.parse(\"SIX\")\n",
    "seven = vocab.parse(\"SEVEN\")\n",
    "eight = vocab.parse(\"EIGHT\")\n",
    "nine = vocab.parse(\"NINE\")"
   ]
  },
  {
   "cell_type": "code",
   "execution_count": 3,
   "metadata": {},
   "outputs": [],
   "source": [
    "# Compute the transformation and convert it into a SP object\n",
    "T = (~zero*one + ~one*two + ~one*seven + ~two*three + ~seven*eight).v / 1 #5\n",
    "T = spa.SemanticPointer(T)"
   ]
  },
  {
   "cell_type": "code",
   "execution_count": 4,
   "metadata": {},
   "outputs": [
    {
     "data": {
      "text/plain": [
       "[<matplotlib.lines.Line2D at 0x11e3779e8>]"
      ]
     },
     "execution_count": 4,
     "metadata": {},
     "output_type": "execute_result"
    },
    {
     "data": {
      "image/png": "[encoded data removed]",
      "text/plain": [
       "<Figure size 720x720 with 1 Axes>"
      ]
     },
     "metadata": {
      "needs_background": "light"
     },
     "output_type": "display_data"
    }
   ],
   "source": [
    "import matplotlib.pyplot as plt\n",
    "%matplotlib inline\n",
    "\n",
    "\n",
    "test = (eight *~T).v\n",
    "\n",
    "similarity = []\n",
    "for sp_name in vocab.keys:\n",
    "    vec = vocab.parse(sp_name)\n",
    "    similarity.append(vec.compare(test))\n",
    "   \n",
    "plt.figure(figsize = (10,10))    \n",
    "plt.plot(vocab.keys, similarity, 'o', label=vocab.keys)   "
   ]
  },
  {
   "cell_type": "markdown",
   "metadata": {},
   "source": [
    "Succ1, succ2, succ3 all work here. \n",
    "However, for every answer, the other nodes at the same level (though with different parents) also show up as close contenders, but a threshold at 0.7 will still work."
   ]
  },
  {
   "cell_type": "markdown",
   "metadata": {},
   "source": [
    "Loos like a threshold at 0.7 could work"
   ]
  }
 ],
 "metadata": {
  "kernelspec": {
   "display_name": "Python 3",
   "language": "python",
   "name": "python3"
  },
  "language_info": {
   "codemirror_mode": {
    "name": "ipython",
    "version": 3
   },
   "file_extension": ".py",
   "mimetype": "text/x-python",
   "name": "python",
   "nbconvert_exporter": "python",
   "pygments_lexer": "ipython3",
   "version": "3.6.6"
  }
 },
 "nbformat": 4,
 "nbformat_minor": 2
}
