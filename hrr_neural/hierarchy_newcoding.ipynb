{
 "cells": [
  {
   "cell_type": "markdown",
   "metadata": {},
   "source": [
    "# Hierarchy embedding in math"
   ]
  },
  {
   "cell_type": "markdown",
   "metadata": {},
   "source": [
    "The problem with this approach is that you need to know the idenitity of the successor to decode their properties"
   ]
  },
  {
   "cell_type": "code",
   "execution_count": 1,
   "metadata": {},
   "outputs": [],
   "source": [
    "# Setup the environement\n",
    "\n",
    "import nengo\n",
    "import nengo.spa as spa\n",
    "from nengo.spa import Vocabulary\n",
    "import numpy as np\n",
    "\n",
    "import matplotlib.pyplot as plt\n",
    "%matplotlib inline"
   ]
  },
  {
   "cell_type": "raw",
   "metadata": {},
   "source": [
    "Taxonomy encoded:\n",
    "\n",
    "            [0]           \n",
    "           /   \\\n",
    "         /       \\ \n",
    "       [1]        [6]     \n",
    "      /   \\       /  \\\n",
    "    [2]   [7]   [12] [13] \n",
    "    /     /  \\\n",
    "  [3]    [8] [9]\n",
    "   /     /     \\\n",
    " [4]    [10]  [11]\n",
    "  /\n",
    "[5] "
   ]
  },
  {
   "cell_type": "code",
   "execution_count": 5,
   "metadata": {},
   "outputs": [
    {
     "name": "stderr",
     "output_type": "stream",
     "text": [
      "/Users/sugandha/nengo/nengo/spa/vocab.py:114: UserWarning: Could not create a semantic pointer with max_similarity=0.02 (D=512, M=11)\n",
      "  len(self.pointers)))\n",
      "/Users/sugandha/nengo/nengo/spa/vocab.py:114: UserWarning: Could not create a semantic pointer with max_similarity=0.02 (D=512, M=17)\n",
      "  len(self.pointers)))\n",
      "/Users/sugandha/nengo/nengo/spa/vocab.py:114: UserWarning: Could not create a semantic pointer with max_similarity=0.02 (D=512, M=19)\n",
      "  len(self.pointers)))\n",
      "/Users/sugandha/nengo/nengo/spa/vocab.py:114: UserWarning: Could not create a semantic pointer with max_similarity=0.02 (D=512, M=21)\n",
      "  len(self.pointers)))\n",
      "/Users/sugandha/nengo/nengo/spa/vocab.py:114: UserWarning: Could not create a semantic pointer with max_similarity=0.02 (D=512, M=23)\n",
      "  len(self.pointers)))\n",
      "/Users/sugandha/nengo/nengo/spa/vocab.py:114: UserWarning: Could not create a semantic pointer with max_similarity=0.02 (D=512, M=25)\n",
      "  len(self.pointers)))\n",
      "/Users/sugandha/nengo/nengo/spa/vocab.py:114: UserWarning: Could not create a semantic pointer with max_similarity=0.02 (D=512, M=27)\n",
      "  len(self.pointers)))\n",
      "/Users/sugandha/nengo/nengo/spa/vocab.py:114: UserWarning: Could not create a semantic pointer with max_similarity=0.02 (D=512, M=29)\n",
      "  len(self.pointers)))\n"
     ]
    }
   ],
   "source": [
    "# Construct the embeddings using HRRs\n",
    "\n",
    "rng = np.random.RandomState(12)\n",
    "dim = 64*8\n",
    "\n",
    "vocab = Vocabulary(dimensions=dim, rng=rng, max_similarity=0.02, unitary=True)\n",
    "\n",
    "incr = vocab.parse(\"INCREMENT\")\n",
    "zero = vocab.parse(\"ZERO\")\n",
    "sex = vocab.parse(\"SEX\")\n",
    "\n",
    "vocab.add(\"ONE\", vocab.parse(\"ZERO*INCREMENT+SEX*MALE*B\"))\n",
    "vocab.add(\"SIX\", vocab.parse(\"ZERO*INCREMENT+SEX*FEMALE*G\"))\n",
    "\n",
    "vocab.add(\"TWO\", vocab.parse(\"ONE*INCREMENT+SEX*MALE*C\"))\n",
    "vocab.add(\"SEVEN\", vocab.parse(\"ONE*INCREMENT+SEX*FEMALE*H\"))\n",
    "\n",
    "vocab.add(\"THREE\", vocab.parse(\"TWO*INCREMENT+SEX*FEMALE*D\"))\n",
    "vocab.add(\"FOUR\", vocab.parse(\"THREE*INCREMENT+SEX*MALE*E\"))\n",
    "vocab.add(\"FIVE\", vocab.parse(\"FOUR*INCREMENT+SEX*FEMALE*F\"))\n",
    "\n",
    "vocab.add(\"EIGHT\", vocab.parse(\"SEVEN*INCREMENT+SEX*FEMALE*I\"))\n",
    "vocab.add(\"TEN\", vocab.parse(\"EIGHT*INCREMENT+SEX*MALE*K\"))\n",
    "\n",
    "vocab.add(\"NINE\", vocab.parse(\"SEVEN*INCREMENT+SEX*MALE*J\"))\n",
    "vocab.add(\"ELEVEN\", vocab.parse(\"NINE*INCREMENT+SEX*MALE*L\"))\n",
    "\n",
    "vocab.add(\"TWELVE\", vocab.parse(\"SIX*INCREMENT+SEX*MALE*M\"))\n",
    "vocab.add(\"THIRTEEN\", vocab.parse(\"SIX*INCREMENT+SEX*FEMALE*N\"))\n",
    "\n",
    "\n",
    "one = vocab.parse(\"ONE\")\n",
    "two = vocab.parse(\"TWO\")\n",
    "three = vocab.parse(\"THREE\")\n",
    "four = vocab.parse(\"FOUR\")\n",
    "five = vocab.parse(\"FIVE\")\n",
    "six = vocab.parse(\"SIX\")\n",
    "seven = vocab.parse(\"SEVEN\")\n",
    "eight = vocab.parse(\"EIGHT\")\n",
    "nine = vocab.parse(\"NINE\")\n",
    "ten = vocab.parse(\"TEN\")"
   ]
  },
  {
   "cell_type": "code",
   "execution_count": 6,
   "metadata": {},
   "outputs": [],
   "source": [
    "# Compute the transformation and convert it into a SP object\n",
    "T = (~zero*one + ~one*two + ~zero*six).v / 3\n",
    "T = spa.SemanticPointer(T)"
   ]
  },
  {
   "cell_type": "code",
   "execution_count": 8,
   "metadata": {},
   "outputs": [
    {
     "data": {
      "text/plain": [
       "[<matplotlib.lines.Line2D at 0x11ca765f8>]"
      ]
     },
     "execution_count": 8,
     "metadata": {},
     "output_type": "execute_result"
    },
    {
     "data": {
      "image/png": "[encoded data removed]",
      "text/plain": [
       "<Figure size 1296x720 with 1 Axes>"
      ]
     },
     "metadata": {
      "needs_background": "light"
     },
     "output_type": "display_data"
    }
   ],
   "source": [
    "# Test the model using the computed transformation\n",
    "\n",
    "succ = (seven * T)\n",
    "mal_fem = ~sex * (succ * ~vocab.parse('K'))\n",
    "test = mal_fem\n",
    "\n",
    "similarity = []\n",
    "for sp_name in vocab.keys:\n",
    "    vec = vocab.parse(sp_name)\n",
    "    similarity.append(vec.compare(test))\n",
    "   \n",
    "plt.figure(figsize = (18,10))    \n",
    "plt.plot(vocab.keys, similarity, 'o', label=vocab.keys)   "
   ]
  },
  {
   "cell_type": "markdown",
   "metadata": {},
   "source": [
    "The vector representing the successor of seven is most similar to eight and nine."
   ]
  }
 ],
 "metadata": {
  "kernelspec": {
   "display_name": "Python 3",
   "language": "python",
   "name": "python3"
  },
  "language_info": {
   "codemirror_mode": {
    "name": "ipython",
    "version": 3
   },
   "file_extension": ".py",
   "mimetype": "text/x-python",
   "name": "python",
   "nbconvert_exporter": "python",
   "pygments_lexer": "ipython3",
   "version": "3.6.6"
  }
 },
 "nbformat": 4,
 "nbformat_minor": 2
}
