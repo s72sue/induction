{
 "cells": [
  {
   "cell_type": "markdown",
   "metadata": {},
   "source": [
    "# Directed chain embedding in math"
   ]
  },
  {
   "cell_type": "code",
   "execution_count": 8,
   "metadata": {},
   "outputs": [],
   "source": [
    "# Setup the environment\n",
    "\n",
    "import nengo\n",
    "import nengo.spa as spa\n",
    "from nengo.spa import Vocabulary\n",
    "import numpy as np\n",
    "\n",
    "import matplotlib.pyplot as plt\n",
    "%matplotlib inline"
   ]
  },
  {
   "cell_type": "code",
   "execution_count": 9,
   "metadata": {},
   "outputs": [],
   "source": [
    "# Construct the embedding using HRRs\n",
    "\n",
    "rng = np.random.RandomState(10)\n",
    "dim = 32\n",
    "\n",
    "vocab = Vocabulary(dimensions=dim, rng=rng, max_similarity=0.02, unitary=True)\n",
    "incr = vocab.parse(\"INCREMENT\")\n",
    "\n",
    "zero = vocab.parse(\"ZERO\")\n",
    "vocab.add(\"ONE\", vocab.parse(\"ZERO*INCREMENT\"))\n",
    "vocab.add(\"TWO\", vocab.parse(\"ONE*INCREMENT\"))\n",
    "vocab.add(\"THREE\", vocab.parse(\"TWO*INCREMENT\"))\n",
    "vocab.add(\"FOUR\", vocab.parse(\"THREE*INCREMENT\"))\n",
    "vocab.add(\"FIVE\", vocab.parse(\"FOUR*INCREMENT\"))\n",
    "vocab.add(\"SIX\", vocab.parse(\"FIVE*INCREMENT\"))\n",
    "vocab.add(\"SEVEN\", vocab.parse(\"SIX*INCREMENT\"))\n",
    "vocab.add(\"EIGHT\", vocab.parse(\"SEVEN*INCREMENT\"))\n",
    "vocab.add(\"NINE\", vocab.parse(\"EIGHT*INCREMENT\"))\n",
    "vocab.add(\"TEN\", vocab.parse(\"NINE*INCREMENT\"))\n",
    "vocab.add(\"ELEVEN\", vocab.parse(\"TEN*INCREMENT\"))\n",
    "vocab.add(\"TWELVE\", vocab.parse(\"ELEVEN*INCREMENT\"))\n",
    "\n",
    "\n",
    "one = vocab.parse(\"ONE\")\n",
    "two = vocab.parse(\"TWO\")\n",
    "three = vocab.parse(\"THREE\")\n",
    "four = vocab.parse(\"FOUR\")\n",
    "five = vocab.parse(\"FIVE\")\n",
    "six = vocab.parse(\"SIX\")\n",
    "seven = vocab.parse(\"SEVEN\")\n",
    "eight = vocab.parse(\"EIGHT\")\n",
    "nine = vocab.parse(\"EIGHT*INCREMENT\")\n",
    "ten = vocab.parse(\"NINE*INCREMENT\")"
   ]
  },
  {
   "cell_type": "code",
   "execution_count": 10,
   "metadata": {},
   "outputs": [],
   "source": [
    "# Compute the transformation and convert it into a SP object\n",
    "T = (~zero*one + ~one*two + ~two*three + ~three*four + ~four*five).v / 1 #5\n",
    "T = spa.SemanticPointer(T)"
   ]
  },
  {
   "cell_type": "code",
   "execution_count": 13,
   "metadata": {},
   "outputs": [
    {
     "data": {
      "text/plain": [
       "[<matplotlib.lines.Line2D at 0x1179e9d30>]"
      ]
     },
     "execution_count": 13,
     "metadata": {},
     "output_type": "execute_result"
    },
    {
     "data": {
      "image/png": "[encoded data removed]",
      "text/plain": [
       "<Figure size 1008x720 with 1 Axes>"
      ]
     },
     "metadata": {
      "needs_background": "light"
     },
     "output_type": "display_data"
    }
   ],
   "source": [
    "# Test the model using the computed transformation\n",
    "\n",
    "test = (eight * T*T*T*T).v\n",
    "\n",
    "similarity = []\n",
    "for sp_name in vocab.keys:\n",
    "    vec = vocab.parse(sp_name)\n",
    "    similarity.append(vec.compare(test))\n",
    " \n",
    "\n",
    "plt.figure(figsize = (14,10))    \n",
    "plt.plot(vocab.keys, similarity, 'o', label=vocab.keys)   "
   ]
  },
  {
   "cell_type": "markdown",
   "metadata": {},
   "source": [
    "The vector representing Successor4 of eight is most similar to twelve. "
   ]
  }
 ],
 "metadata": {
  "kernelspec": {
   "display_name": "Python 3",
   "language": "python",
   "name": "python3"
  },
  "language_info": {
   "codemirror_mode": {
    "name": "ipython",
    "version": 3
   },
   "file_extension": ".py",
   "mimetype": "text/x-python",
   "name": "python",
   "nbconvert_exporter": "python",
   "pygments_lexer": "ipython3",
   "version": "3.6.6"
  }
 },
 "nbformat": 4,
 "nbformat_minor": 2
}
