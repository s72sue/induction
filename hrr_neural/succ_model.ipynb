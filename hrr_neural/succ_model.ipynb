{
 "cells": [
  {
   "cell_type": "markdown",
   "metadata": {},
   "source": [
    "This model learns the successor transformation"
   ]
  },
  {
   "cell_type": "code",
   "execution_count": 1,
   "metadata": {},
   "outputs": [],
   "source": [
    "import nengo\n",
    "import nengo_gui\n",
    "import nengo.spa as spa\n",
    "from nengo.spa import Vocabulary\n",
    "import numpy as np\n",
    "import matplotlib.pyplot as plt\n",
    "%matplotlib inline"
   ]
  },
  {
   "cell_type": "code",
   "execution_count": 2,
   "metadata": {},
   "outputs": [],
   "source": [
    "dim = 32\n",
    "rng = np.random.RandomState(10)\n",
    "vocab = Vocabulary(dimensions=dim, rng=rng, max_similarity=0.02, unitary=True)\n",
    "\n",
    "zero = vocab.parse(\"ZERO\")\n",
    "vocab.add(\"ONE\", vocab.parse(\"ZERO*INCREMENT\"))\n",
    "vocab.add(\"TWO\", vocab.parse(\"ONE*INCREMENT\"))\n",
    "vocab.add(\"THREE\", vocab.parse(\"TWO*INCREMENT\"))\n",
    "vocab.add(\"FOUR\", vocab.parse(\"THREE*INCREMENT\"))\n",
    "vocab.add(\"FIVE\", vocab.parse(\"FOUR*INCREMENT\"))\n",
    "vocab.add(\"SIX\", vocab.parse(\"FIVE*INCREMENT\"))\n",
    "vocab.add(\"SEVEN\", vocab.parse(\"SIX*INCREMENT\"))\n",
    "vocab.add(\"EIGHT\", vocab.parse(\"SEVEN*INCREMENT\"))\n",
    "vocab.add(\"NINE\", vocab.parse(\"EIGHT*INCREMENT\"))\n",
    "vocab.add(\"TEN\", vocab.parse(\"NINE*INCREMENT\"))\n",
    "vocab.add(\"ELEVEN\", vocab.parse(\"TEN*INCREMENT\"))\n",
    "vocab.add(\"TWELVE\", vocab.parse(\"ELEVEN*INCREMENT\"))\n",
    "\n",
    "\n",
    "one = vocab.parse(\"ONE\")\n",
    "two = vocab.parse(\"TWO\")\n",
    "three = vocab.parse(\"THREE\")\n",
    "four = vocab.parse(\"FOUR\")\n",
    "five = vocab.parse(\"FIVE\")\n",
    "six = vocab.parse(\"SIX\")\n",
    "seven = vocab.parse(\"SEVEN\")\n",
    "eight = vocab.parse(\"EIGHT\")\n",
    "nine = vocab.parse(\"EIGHT*INCREMENT\")\n",
    "ten = vocab.parse(\"NINE*INCREMENT\")                             "
   ]
  },
  {
   "cell_type": "code",
   "execution_count": 3,
   "metadata": {},
   "outputs": [],
   "source": [
    "# Weighted average\n",
    "# T(i+1) = f*Ti + l(A'*B)\n",
    "# l = 1/(i+1) and f = 1-l    for an exact average\n",
    "\n",
    "model = spa.SPA() \n",
    "with model:\n",
    "    model.a = spa.State(dim, vocab=vocab)\n",
    "    model.b = spa.State(dim, vocab=vocab)\n",
    "    model.trans = spa.State(dim, vocab=vocab, feedback=1)\n",
    "    \n",
    "    model.cue = spa.State(dim, vocab=vocab)\n",
    "    model.succ = spa.State(dim, vocab=vocab)\n",
    "    model.pred = spa.State(dim, vocab=vocab)\n",
    "    model.assoc_memSucc = spa.AssociativeMemory(input_vocab=vocab, threshold=0.5)\n",
    "    model.assoc_memPred = spa.AssociativeMemory(input_vocab=vocab, threshold=0.5)\n",
    "    \n",
    "    actions = spa.Actions(\n",
    "        'trans = ~a * b',\n",
    "        'succ = trans*cue',\n",
    "        'pred = ~trans*cue',\n",
    "        'assoc_memSucc = succ',\n",
    "        'assoc_memPred = pred',\n",
    "        #'cue = succ'\n",
    "    )\n",
    "\n",
    "    model.cortical = spa.Cortical(actions)\n",
    "    \n",
    "    cue_probe = nengo.Probe(model.cue.output, synapse=0.03)\n",
    "    \n",
    "    succ_probe = nengo.Probe(model.succ.output, synapse=0.03)\n",
    "    pred_probe = nengo.Probe(model.pred.output, synapse=0.03)\n",
    "    \n",
    "    amsucc_inprobe = nengo.Probe(model.assoc_memSucc.input)\n",
    "    amsucc_outprobe = nengo.Probe(model.assoc_memSucc.output, synapse=0.03)\n",
    "    \n",
    "    ampred_inprobe = nengo.Probe(model.assoc_memPred.input)\n",
    "    ampred_outprobe = nengo.Probe(model.assoc_memPred.output, synapse=0.03)"
   ]
  },
  {
   "cell_type": "code",
   "execution_count": 4,
   "metadata": {},
   "outputs": [],
   "source": [
    "def inp1(t):\n",
    "    if t <= 0.2:\n",
    "        return 'ZERO'                                \n",
    "    elif (0.2 < t<=0.4):      \n",
    "        return 'ONE'\n",
    "    elif (0.4 < t<=0.6):      \n",
    "        return 'TWO' \n",
    "    else:\n",
    "        return '0'\n",
    " \n",
    "            \n",
    "def inp2(t):\n",
    "    if t <= 0.2:\n",
    "        return 'ONE'                                \n",
    "    elif (0.2 < t<=0.4):      \n",
    "        return 'TWO'\n",
    "    elif (0.4 < t<=0.6):      \n",
    "        return 'THREE'\n",
    "    else:\n",
    "        return '0'\n",
    " \n",
    "    \n",
    "def cue_inp(t):\n",
    "    if 0.6< t:\n",
    "        return 'SIX'\n",
    "    else:\n",
    "        return '0'\n",
    "\n",
    "    \n",
    "    \n",
    "with model:\n",
    "    model.input = spa.Input(a=inp1, b=inp2, cue=cue_inp)     # provide sensory input which determines cortex state"
   ]
  },
  {
   "cell_type": "code",
   "execution_count": 5,
   "metadata": {},
   "outputs": [],
   "source": [
    "def plot_similarities(input_data,\n",
    "                      output_data,\n",
    "                      vocab1,\n",
    "                      vocab2=None,\n",
    "                      autoscale=False):\n",
    "    if vocab2 is None:\n",
    "        vocab2 = vocab1\n",
    "\n",
    "    ymin, ymax = -1.2, 1.2\n",
    "    plt.figure(figsize=(12, 4))\n",
    "    plt.subplot(1, 2, 1)\n",
    "    plt.ylim(ymin, ymax)\n",
    "    if autoscale:\n",
    "        plt.autoscale(autoscale, axis='y')\n",
    "    plt.grid(True)\n",
    "    plt.plot(t, spa.similarity(input_data, vocab1))\n",
    "    plt.title(\"Input similarity\")\n",
    "    plt.xlabel(\"Time\")\n",
    "    plt.xlim(right=t[-1])\n",
    "    plt.legend(\n",
    "        vocab1.keys, loc='upper center', bbox_to_anchor=(0.5, -0.13), ncol=3)\n",
    "\n",
    "    plt.subplot(1, 2, 2)\n",
    "    plt.plot(t, spa.similarity(output_data, vocab2))\n",
    "    plt.title(\"Output similarity\")\n",
    "    plt.xlabel(\"Time\")\n",
    "    plt.xlim(right=t[-1])\n",
    "    plt.ylim(ymin, ymax)\n",
    "    if autoscale:\n",
    "        plt.autoscale(autoscale, axis='y')\n",
    "    plt.grid(True)\n",
    "    plt.legend(\n",
    "        vocab2.keys, loc='upper center', bbox_to_anchor=(0.5, -0.13), ncol=3)\n",
    "    plt.tight_layout()"
   ]
  },
  {
   "cell_type": "code",
   "execution_count": null,
   "metadata": {},
   "outputs": [
    {
     "data": {
      "application/vdom.v1+json": {
       "attributes": {},
       "tagName": "div"
      },
      "text/html": [
       "\n",
       "                <script>\n",
       "                    if (Jupyter.version.split(\".\")[0] < 5) {\n",
       "                        var pb = document.getElementById(\"290ac03d-7e1e-47cf-9de4-19dc54a6edf9\");\n",
       "                        var text = document.createTextNode(\n",
       "                            \"HMTL progress bar requires Jupyter Notebook >= \" +\n",
       "                            \"5.0 or Jupyter Lab. Alternatively, you can use \" +\n",
       "                            \"TerminalProgressBar().\");\n",
       "                        pb.parentNode.insertBefore(text, pb);\n",
       "                    }\n",
       "                </script>\n",
       "                <div id=\"290ac03d-7e1e-47cf-9de4-19dc54a6edf9\" style=\"\n",
       "                    width: 100%;\n",
       "                    border: 1px solid #cfcfcf;\n",
       "                    border-radius: 4px;\n",
       "                    text-align: center;\n",
       "                    position: relative;\">\n",
       "                  <div class=\"pb-text\" style=\"\n",
       "                      position: absolute;\n",
       "                      width: 100%;\">\n",
       "                    0%\n",
       "                  </div>\n",
       "                  <div class=\"pb-fill\" style=\"\n",
       "                      background-color: #bdd2e6;\n",
       "                      width: 0%;\">\n",
       "                    <style type=\"text/css\" scoped=\"scoped\">\n",
       "                        @keyframes pb-fill-anim {\n",
       "                            0% { background-position: 0 0; }\n",
       "                            100% { background-position: 100px 0; }\n",
       "                        }\n",
       "                    </style>\n",
       "                    &nbsp;\n",
       "                  </div>\n",
       "                </div>"
      ],
      "text/plain": [
       "HtmlProgressBar cannot be displayed. Please use the TerminalProgressBar. It can be enabled with `nengo.rc.set('progress', 'progress_bar', 'nengo.utils.progress.TerminalProgressBar')`."
      ]
     },
     "metadata": {},
     "output_type": "display_data"
    },
    {
     "data": {
      "application/javascript": [
       "\n",
       "              (function () {\n",
       "                  var root = document.getElementById('290ac03d-7e1e-47cf-9de4-19dc54a6edf9');\n",
       "                  var text = root.getElementsByClassName('pb-text')[0];\n",
       "                  var fill = root.getElementsByClassName('pb-fill')[0];\n",
       "\n",
       "                  text.innerHTML = 'Building (running optimizer)&hellip; duration: 0:00:02';\n",
       "                  \n",
       "            fill.style.width = '100%';\n",
       "            fill.style.animation = 'pb-fill-anim 2s linear infinite';\n",
       "            fill.style.backgroundSize = '100px 100%';\n",
       "            fill.style.backgroundImage = 'repeating-linear-gradient(' +\n",
       "                '90deg, #bdd2e6, #edf2f8 40%, #bdd2e6 80%, #bdd2e6)';\n",
       "        \n",
       "                  \n",
       "              })();\n",
       "        "
      ],
      "application/vdom.v1+json": {
       "attributes": {
        "id": "5292a710-5472-420d-8821-c73a2cb98b42",
        "style": {
         "border": "1px solid #cfcfcf",
         "borderRadius": "4px",
         "boxSizing": "border-box",
         "position": "relative",
         "textAlign": "center",
         "width": "100%"
        }
       },
       "children": [
        {
         "attributes": {
          "class": "pb-text",
          "style": {
           "position": "absolute",
           "width": "100%"
          }
         },
         "children": [
          "Building (running optimizer)… duration: 0:00:02"
         ],
         "tagName": "div"
        },
        {
         "attributes": {
          "class": "pb-fill",
          "style": {
           "animation": "pb-fill-anim 2s linear infinite",
           "backgroundColor": "#bdd2e6",
           "backgroundImage": "repeating-linear-gradient(90deg, #bdd2e6, #edf2f8 40%, #bdd2e6 80%, #bdd2e6)",
           "backgroundSize": "100px 100%",
           "width": "100%"
          }
         },
         "children": [
          {
           "attributes": {
            "scoped": "scoped",
            "type": "text/css"
           },
           "children": [
            "\n                        @keyframes pb-fill-anim {\n                            0% { background-position: 0 0; }\n                            100% { background-position: 100px 0; }\n                        }}"
           ],
           "tagName": "style"
          },
          " "
         ],
         "tagName": "div"
        }
       ],
       "tagName": "div"
      }
     },
     "metadata": {},
     "output_type": "display_data"
    }
   ],
   "source": [
    "sim = nengo.Simulator(model)\n",
    "sim.run(1)\n",
    "t = sim.trange()"
   ]
  },
  {
   "cell_type": "code",
   "execution_count": null,
   "metadata": {},
   "outputs": [],
   "source": [
    "# Cue\n",
    "plt.figure()\n",
    "plt.plot(sim.trange(), spa.similarity(sim.data[cue_probe], vocab))\n",
    "plt.xlabel(\"Time [s]\")\n",
    "plt.ylabel(\"Output similarity\")\n",
    "plt.title(\"Cue\")\n",
    "plt.legend(vocab.keys, loc='best', bbox_to_anchor=(1.05, 1), borderaxespad=0.0);\n",
    "\n",
    "\n",
    "# Successor\n",
    "plt.figure()\n",
    "plt.plot(sim.trange(), spa.similarity(sim.data[succ_probe], vocab))\n",
    "plt.xlabel(\"Time [s]\")\n",
    "plt.ylabel(\"Output similarity\")\n",
    "plt.title(\"Successor\")\n",
    "plt.legend(vocab.keys, loc='best', bbox_to_anchor=(1.05, 1), borderaxespad=0.0);\n",
    "\n",
    "plot_similarities(sim.data[amsucc_inprobe], sim.data[amsucc_outprobe], vocab)\n",
    "\n",
    "\n",
    "# Predecessor\n",
    "plt.figure()\n",
    "plt.plot(sim.trange(), spa.similarity(sim.data[pred_probe], vocab))\n",
    "plt.xlabel(\"Time [s]\")\n",
    "plt.ylabel(\"Output similarity\")\n",
    "plt.title(\"Predecessor\")\n",
    "plt.legend(vocab.keys, loc='best', bbox_to_anchor=(1.05, 1), borderaxespad=0.0);\n",
    "\n",
    "plot_similarities(sim.data[ampred_inprobe], sim.data[ampred_outprobe], vocab)"
   ]
  },
  {
   "cell_type": "code",
   "execution_count": null,
   "metadata": {},
   "outputs": [],
   "source": [
    "from nengo_gui.ipython import IPythonViz\n",
    "IPythonViz(model)"
   ]
  },
  {
   "cell_type": "code",
   "execution_count": 11,
   "metadata": {},
   "outputs": [
    {
     "data": {
      "text/plain": [
       "51800"
      ]
     },
     "execution_count": 11,
     "metadata": {},
     "output_type": "execute_result"
    }
   ],
   "source": [
    "model.n_neurons"
   ]
  }
 ],
 "metadata": {
  "kernelspec": {
   "display_name": "Python 3",
   "language": "python",
   "name": "python3"
  },
  "language_info": {
   "codemirror_mode": {
    "name": "ipython",
    "version": 3
   },
   "file_extension": ".py",
   "mimetype": "text/x-python",
   "name": "python",
   "nbconvert_exporter": "python",
   "pygments_lexer": "ipython3",
   "version": "3.6.6"
  }
 },
 "nbformat": 4,
 "nbformat_minor": 2
}
