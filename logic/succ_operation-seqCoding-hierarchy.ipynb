{
 "cells": [
  {
   "cell_type": "markdown",
   "metadata": {},
   "source": [
    "Trying to capture the sibling relation with the sequence construction without gender"
   ]
  },
  {
   "cell_type": "code",
   "execution_count": 1,
   "metadata": {},
   "outputs": [],
   "source": [
    "import nengo\n",
    "import nengo.spa as spa\n",
    "from nengo.spa import Vocabulary\n",
    "import numpy as np"
   ]
  },
  {
   "cell_type": "code",
   "execution_count": 2,
   "metadata": {},
   "outputs": [
    {
     "name": "stderr",
     "output_type": "stream",
     "text": [
      "/Users/sugandha/nengo/nengo/spa/vocab.py:114: UserWarning: Could not create a semantic pointer with max_similarity=0.02 (D=256, M=12)\n",
      "  len(self.pointers)))\n",
      "/Users/sugandha/nengo/nengo/spa/vocab.py:114: UserWarning: Could not create a semantic pointer with max_similarity=0.02 (D=256, M=14)\n",
      "  len(self.pointers)))\n",
      "/Users/sugandha/nengo/nengo/spa/vocab.py:114: UserWarning: Could not create a semantic pointer with max_similarity=0.02 (D=256, M=18)\n",
      "  len(self.pointers)))\n"
     ]
    }
   ],
   "source": [
    "rng = np.random.RandomState(10)\n",
    "dim = 64*2*2\n",
    "\n",
    "vocab = Vocabulary(dimensions=dim, rng=rng, max_similarity=0.02, unitary=True)\n",
    "#zero = spa.SemanticPointer(dim)\n",
    "\n",
    "incr = vocab.parse(\"INCREMENT\")\n",
    "\n",
    "\n",
    "zero = vocab.parse(\"ZERO\")\n",
    "vocab.add(\"ONE\", vocab.parse(\"ZERO*INCREMENT+B\"))\n",
    "vocab.add(\"TWO\", vocab.parse(\"ONE*INCREMENT+C\"))\n",
    "vocab.add(\"THREE\", vocab.parse(\"TWO*INCREMENT+D\"))\n",
    "vocab.add(\"FOUR\", vocab.parse(\"THREE*INCREMENT+E\"))\n",
    "vocab.add(\"FIVE\", vocab.parse(\"FOUR*INCREMENT+F\"))\n",
    "\n",
    "vocab.add(\"SIX\", vocab.parse(\"ZERO*INCREMENT+G\"))\n",
    "vocab.add(\"SEVEN\", vocab.parse(\"ONE*INCREMENT+H\"))\n",
    "\n",
    "vocab.add(\"EIGHT\", vocab.parse(\"SEVEN*INCREMENT+I\"))\n",
    "vocab.add(\"NINE\", vocab.parse(\"SEVEN*INCREMENT+J\"))\n",
    "\n",
    "# vocab.add(\"TEN\", vocab.parse(\"NINE*INCREMENT+K\"))\n",
    "# vocab.add(\"ELEVEN\", vocab.parse(\"TEN*INCREMENT+L\"))\n",
    "# vocab.add(\"TWELVE\", vocab.parse(\"ELEVEN*INCREMENT+M\"))\n",
    "\n",
    "\n",
    "one = vocab.parse(\"ONE\")\n",
    "two = vocab.parse(\"TWO\")\n",
    "three = vocab.parse(\"THREE\")\n",
    "four = vocab.parse(\"FOUR\")\n",
    "five = vocab.parse(\"FIVE\")\n",
    "six = vocab.parse(\"SIX\")\n",
    "seven = vocab.parse(\"SEVEN\")\n",
    "eight = vocab.parse(\"EIGHT\")\n",
    "nine = vocab.parse(\"NINE\")\n",
    "\n",
    "# ten = vocab.parse(\"NINE*INCREMENT\")\n",
    "\n",
    "#nine = vocab.parse(\"NUMBER*NINE+PARITY*EVEN\")\n",
    "#ten = vocab.parse(\"NUMBER*TEN+PARITY*EVEN\")"
   ]
  },
  {
   "cell_type": "code",
   "execution_count": 3,
   "metadata": {},
   "outputs": [
    {
     "name": "stdout",
     "output_type": "stream",
     "text": [
      "<class 'nengo.spa.pointer.SemanticPointer'>\n",
      "2.2648094437820268\n"
     ]
    }
   ],
   "source": [
    "# Compute the transformation and convert it into a SP object\n",
    "T = (~zero*one + ~one*two + ~one*seven + ~two*three + ~seven*eight).v / 5\n",
    "# T = (~zero*one + ~one*two + ~two*three + ~three*four + ~four*five).v / 5\n",
    "T = spa.SemanticPointer(T)\n",
    "print (type(T))\n",
    "\n",
    "# As expected, the transformation vector is very similar to the increment vector\n",
    "#print (T.v)\n",
    "#print (incr.v)\n",
    "print (np.dot(incr.v, T.v))   # dot product ~ 1"
   ]
  },
  {
   "cell_type": "code",
   "execution_count": 17,
   "metadata": {},
   "outputs": [
    {
     "data": {
      "text/plain": [
       "<matplotlib.legend.Legend at 0x11ac926d8>"
      ]
     },
     "execution_count": 17,
     "metadata": {},
     "output_type": "execute_result"
    },
    {
     "data": {
      "image/png": "[encoded data removed]",
      "text/plain": [
       "<Figure size 720x720 with 1 Axes>"
      ]
     },
     "metadata": {
      "needs_background": "light"
     },
     "output_type": "display_data"
    }
   ],
   "source": [
    "import matplotlib.pyplot as plt\n",
    "%matplotlib inline\n",
    "\n",
    "\n",
    "test = (zero *T*T*T).v\n",
    "\n",
    "similarity = []\n",
    "for sp_name in vocab.keys:\n",
    "    vec = vocab.parse(sp_name).v\n",
    "    similarity.append(np.dot(test, vec))\n",
    " \n",
    "   \n",
    "#similarity = vocab.dot(test)    # compute dot product with each vector in the vocab\n",
    "  \n",
    "plt.figure(figsize = (10,10))    \n",
    "plt.plot(vocab.keys, similarity, 'o', label=vocab.keys)   \n",
    "plt.legend(bbox_to_anchor=(1.05, 1), loc=2, borderaxespad=0.0)"
   ]
  },
  {
   "cell_type": "markdown",
   "metadata": {},
   "source": [
    "Succ1, succ2, succ3 all work here. \n",
    "However, for every answer, the other nodes at the same level (though with different parents) also show up as close contenders. I am going to try my sequence coding that I used in odd-even example i.e., only incrementing the number/value in succ_operation_hierarchy.ipynb."
   ]
  },
  {
   "cell_type": "code",
   "execution_count": null,
   "metadata": {},
   "outputs": [],
   "source": []
  }
 ],
 "metadata": {
  "kernelspec": {
   "display_name": "Python 3",
   "language": "python",
   "name": "python3"
  },
  "language_info": {
   "codemirror_mode": {
    "name": "ipython",
    "version": 3
   },
   "file_extension": ".py",
   "mimetype": "text/x-python",
   "name": "python",
   "nbconvert_exporter": "python",
   "pygments_lexer": "ipython3",
   "version": "3.6.6"
  }
 },
 "nbformat": 4,
 "nbformat_minor": 2
}
